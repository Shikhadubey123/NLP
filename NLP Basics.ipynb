{
 "cells": [
  {
   "cell_type": "code",
   "execution_count": 1,
   "metadata": {},
   "outputs": [],
   "source": [
    "import nltk"
   ]
  },
  {
   "cell_type": "code",
   "execution_count": 2,
   "metadata": {},
   "outputs": [
    {
     "name": "stderr",
     "output_type": "stream",
     "text": [
      "[nltk_data] Downloading package punkt to\n",
      "[nltk_data]     C:\\Users\\ingle\\AppData\\Roaming\\nltk_data...\n",
      "[nltk_data]   Package punkt is already up-to-date!\n"
     ]
    },
    {
     "data": {
      "text/plain": [
       "True"
      ]
     },
     "execution_count": 2,
     "metadata": {},
     "output_type": "execute_result"
    }
   ],
   "source": [
    "nltk.download('punkt')"
   ]
  },
  {
   "cell_type": "code",
   "execution_count": 3,
   "metadata": {
    "scrolled": true
   },
   "outputs": [
    {
     "name": "stderr",
     "output_type": "stream",
     "text": [
      "[nltk_data] Downloading package averaged_perceptron_tagger to\n",
      "[nltk_data]     C:\\Users\\ingle\\AppData\\Roaming\\nltk_data...\n",
      "[nltk_data]   Package averaged_perceptron_tagger is already up-to-\n",
      "[nltk_data]       date!\n"
     ]
    },
    {
     "data": {
      "text/plain": [
       "True"
      ]
     },
     "execution_count": 3,
     "metadata": {},
     "output_type": "execute_result"
    }
   ],
   "source": [
    "nltk.download('averaged_perceptron_tagger')"
   ]
  },
  {
   "cell_type": "code",
   "execution_count": 4,
   "metadata": {},
   "outputs": [
    {
     "name": "stderr",
     "output_type": "stream",
     "text": [
      "[nltk_data] Downloading package brown to\n",
      "[nltk_data]     C:\\Users\\ingle\\AppData\\Roaming\\nltk_data...\n",
      "[nltk_data]   Package brown is already up-to-date!\n"
     ]
    },
    {
     "data": {
      "text/plain": [
       "True"
      ]
     },
     "execution_count": 4,
     "metadata": {},
     "output_type": "execute_result"
    }
   ],
   "source": [
    "nltk.download('brown')"
   ]
  },
  {
   "cell_type": "code",
   "execution_count": 5,
   "metadata": {},
   "outputs": [],
   "source": [
    "from textblob import TextBlob"
   ]
  },
  {
   "cell_type": "code",
   "execution_count": 6,
   "metadata": {},
   "outputs": [],
   "source": [
    "tb = TextBlob(\"Dr. Darshan Ingle isthe the one of the faculties associated with Birla College\")"
   ]
  },
  {
   "cell_type": "code",
   "execution_count": 7,
   "metadata": {},
   "outputs": [
    {
     "data": {
      "text/plain": [
       "[('Dr.', 'NNP'),\n",
       " ('Darshan', 'NNP'),\n",
       " ('Ingle', 'NNP'),\n",
       " ('isthe', 'VBD'),\n",
       " ('the', 'DT'),\n",
       " ('one', 'CD'),\n",
       " ('of', 'IN'),\n",
       " ('the', 'DT'),\n",
       " ('faculties', 'NNS'),\n",
       " ('associated', 'VBN'),\n",
       " ('with', 'IN'),\n",
       " ('Birla', 'NNP'),\n",
       " ('College', 'NNP')]"
      ]
     },
     "execution_count": 7,
     "metadata": {},
     "output_type": "execute_result"
    }
   ],
   "source": [
    "# POS Tagging\n",
    "\n",
    "tb.tags"
   ]
  },
  {
   "cell_type": "code",
   "execution_count": 8,
   "metadata": {},
   "outputs": [
    {
     "data": {
      "text/plain": [
       "WordList(['darshan ingle', 'birla'])"
      ]
     },
     "execution_count": 8,
     "metadata": {},
     "output_type": "execute_result"
    }
   ],
   "source": [
    "tb.noun_phrases"
   ]
  },
  {
   "cell_type": "markdown",
   "metadata": {},
   "source": [
    "# Sentiment Analysis\n",
    "\n",
    "Sentiment property\n",
    "\n",
    "Sentiment(polarity, subjectivity)\n",
    "\n",
    "Polarity: [ -1.0 , 1.0]\n",
    "\n",
    "Subjectivity: [ 0.0, 1.0 ] where 0.0 is very objective and 1.0 is very subjective"
   ]
  },
  {
   "cell_type": "code",
   "execution_count": 9,
   "metadata": {},
   "outputs": [
    {
     "name": "stdout",
     "output_type": "stream",
     "text": [
      "Sentiment(polarity=1.0, subjectivity=1.0)\n",
      "\n",
      "Polarity 1.0\n",
      "Subjectivity: 1.0\n"
     ]
    }
   ],
   "source": [
    "ex1 = TextBlob(\"BK Birla ML DS students are superb. I recommend them all.\")\n",
    "print(ex1.sentiment)\n",
    "print()\n",
    "print(\"Polarity\",ex1.sentiment.polarity)\n",
    "print(\"Subjectivity:\",ex1.sentiment.subjectivity)"
   ]
  },
  {
   "cell_type": "code",
   "execution_count": 10,
   "metadata": {},
   "outputs": [
    {
     "name": "stdout",
     "output_type": "stream",
     "text": [
      "Sentiment(polarity=0.725, subjectivity=0.65)\n",
      "\n",
      "Polarity 0.725\n",
      "Subjectivity: 0.65\n"
     ]
    }
   ],
   "source": [
    "ex2 = TextBlob(\"BK Birla ML DS students are superb. What a great fun to teach them all! I recommend them all.\")\n",
    "print(ex2.sentiment)\n",
    "print()\n",
    "print(\"Polarity\",ex2.sentiment.polarity)\n",
    "print(\"Subjectivity:\",ex2.sentiment.subjectivity)"
   ]
  },
  {
   "cell_type": "code",
   "execution_count": 11,
   "metadata": {},
   "outputs": [
    {
     "name": "stdout",
     "output_type": "stream",
     "text": [
      "Sentiment(polarity=-0.3, subjectivity=0.4)\n",
      "\n",
      "Polarity -0.3\n",
      "Subjectivity: 0.4\n"
     ]
    }
   ],
   "source": [
    "ex3 = TextBlob(\"My wife's behavior is soo confusing to me\")\n",
    "print(ex3.sentiment)\n",
    "print()\n",
    "print(\"Polarity\",ex3.sentiment.polarity)\n",
    "print(\"Subjectivity:\",ex3.sentiment.subjectivity)"
   ]
  },
  {
   "cell_type": "code",
   "execution_count": 12,
   "metadata": {},
   "outputs": [
    {
     "name": "stdout",
     "output_type": "stream",
     "text": [
      "Sentiment(polarity=-0.6999999999999998, subjectivity=0.6666666666666666)\n",
      "\n",
      "Polarity -0.6999999999999998\n",
      "Subjectivity: 0.6666666666666666\n"
     ]
    }
   ],
   "source": [
    "ex4 = TextBlob(\"This food is bad and the ambience is shabby.\")\n",
    "print(ex4.sentiment)\n",
    "print()\n",
    "print(\"Polarity\",ex4.sentiment.polarity)\n",
    "print(\"Subjectivity:\",ex4.sentiment.subjectivity)"
   ]
  },
  {
   "cell_type": "markdown",
   "metadata": {},
   "source": [
    "# Tokenization\n",
    "\n",
    "You can break TextBlobs into words or sentences."
   ]
  },
  {
   "cell_type": "code",
   "execution_count": 13,
   "metadata": {},
   "outputs": [
    {
     "data": {
      "text/plain": [
       "TextBlob(\"I love the Birla college.They have good teachers.I shall recommend it to my friends.\")"
      ]
     },
     "execution_count": 13,
     "metadata": {},
     "output_type": "execute_result"
    }
   ],
   "source": [
    "corpus = TextBlob(\"I love the Birla college.\"\n",
    "                 \"They have good teachers.\"\n",
    "                 \"I shall recommend it to my friends.\")\n",
    "corpus"
   ]
  },
  {
   "cell_type": "code",
   "execution_count": 14,
   "metadata": {},
   "outputs": [
    {
     "data": {
      "text/plain": [
       "WordList(['I', 'love', 'the', 'Birla', 'college.They', 'have', 'good', 'teachers.I', 'shall', 'recommend', 'it', 'to', 'my', 'friends'])"
      ]
     },
     "execution_count": 14,
     "metadata": {},
     "output_type": "execute_result"
    }
   ],
   "source": [
    "corpus.words"
   ]
  },
  {
   "cell_type": "code",
   "execution_count": 15,
   "metadata": {},
   "outputs": [
    {
     "data": {
      "text/plain": [
       "[Sentence(\"I love the Birla college.They have good teachers.I shall recommend it to my friends.\")]"
      ]
     },
     "execution_count": 15,
     "metadata": {},
     "output_type": "execute_result"
    }
   ],
   "source": [
    "corpus.sentences"
   ]
  },
  {
   "cell_type": "code",
   "execution_count": 16,
   "metadata": {},
   "outputs": [
    {
     "name": "stdout",
     "output_type": "stream",
     "text": [
      "Sentiment(polarity=0.6, subjectivity=0.6000000000000001)\n"
     ]
    }
   ],
   "source": [
    "for corp in corpus.sentences:\n",
    "    print(corp.sentiment)"
   ]
  },
  {
   "cell_type": "markdown",
   "metadata": {},
   "source": [
    "# Word Inflection and Lemmatization"
   ]
  },
  {
   "cell_type": "code",
   "execution_count": 17,
   "metadata": {},
   "outputs": [
    {
     "data": {
      "text/plain": [
       "TextBlob(\"This lecture shall definitely take my understandings of NLP to a next level.\")"
      ]
     },
     "execution_count": 17,
     "metadata": {},
     "output_type": "execute_result"
    }
   ],
   "source": [
    "sentence = TextBlob(\"This lecture shall definitely take my understandings of NLP to a next level.\")\n",
    "sentence"
   ]
  },
  {
   "cell_type": "code",
   "execution_count": 18,
   "metadata": {},
   "outputs": [
    {
     "data": {
      "text/plain": [
       "WordList(['This', 'lecture', 'shall', 'definitely', 'take', 'my', 'understandings', 'of', 'NLP', 'to', 'a', 'next', 'level'])"
      ]
     },
     "execution_count": 18,
     "metadata": {},
     "output_type": "execute_result"
    }
   ],
   "source": [
    "sentence.words"
   ]
  },
  {
   "cell_type": "code",
   "execution_count": 19,
   "metadata": {},
   "outputs": [
    {
     "data": {
      "text/plain": [
       "defaultdict(int,\n",
       "            {'this': 1,\n",
       "             'lecture': 1,\n",
       "             'shall': 1,\n",
       "             'definitely': 1,\n",
       "             'take': 1,\n",
       "             'my': 1,\n",
       "             'understandings': 1,\n",
       "             'of': 1,\n",
       "             'nlp': 1,\n",
       "             'to': 1,\n",
       "             'a': 1,\n",
       "             'next': 1,\n",
       "             'level': 1})"
      ]
     },
     "execution_count": 19,
     "metadata": {},
     "output_type": "execute_result"
    }
   ],
   "source": [
    "sentence.word_counts"
   ]
  },
  {
   "cell_type": "code",
   "execution_count": 20,
   "metadata": {},
   "outputs": [
    {
     "data": {
      "text/plain": [
       "WordList(['This', 'lecture', 'shall', 'definitely', 'take', 'my', 'understandings', 'of', 'NLP', 'to', 'a', 'next', 'level'])"
      ]
     },
     "execution_count": 20,
     "metadata": {},
     "output_type": "execute_result"
    }
   ],
   "source": [
    "sentence.words"
   ]
  },
  {
   "cell_type": "code",
   "execution_count": 21,
   "metadata": {},
   "outputs": [
    {
     "data": {
      "text/plain": [
       "'understandings'"
      ]
     },
     "execution_count": 21,
     "metadata": {},
     "output_type": "execute_result"
    }
   ],
   "source": [
    "sentence.words[6] # Word Inflection"
   ]
  },
  {
   "cell_type": "code",
   "execution_count": 22,
   "metadata": {},
   "outputs": [
    {
     "data": {
      "text/plain": [
       "'understanding'"
      ]
     },
     "execution_count": 22,
     "metadata": {},
     "output_type": "execute_result"
    }
   ],
   "source": [
    "sentence.words[6].singularize() # Word Inflection"
   ]
  },
  {
   "cell_type": "code",
   "execution_count": 23,
   "metadata": {},
   "outputs": [
    {
     "data": {
      "text/plain": [
       "'level'"
      ]
     },
     "execution_count": 23,
     "metadata": {},
     "output_type": "execute_result"
    }
   ],
   "source": [
    "sentence.words[-1] # Word Inflection"
   ]
  },
  {
   "cell_type": "code",
   "execution_count": 24,
   "metadata": {},
   "outputs": [
    {
     "data": {
      "text/plain": [
       "'levels'"
      ]
     },
     "execution_count": 24,
     "metadata": {},
     "output_type": "execute_result"
    }
   ],
   "source": [
    "sentence.words[-1].pluralize() # Word Inflection"
   ]
  },
  {
   "cell_type": "code",
   "execution_count": 25,
   "metadata": {},
   "outputs": [
    {
     "name": "stdout",
     "output_type": "stream",
     "text": [
      "fish\n",
      "fish\n",
      "fish\n",
      "fish\n"
     ]
    }
   ],
   "source": [
    "# Stemming: process of extracting the root word\n",
    "\n",
    "from nltk.stem import PorterStemmer\n",
    "st = PorterStemmer()\n",
    "print(st.stem(\"fish\"))\n",
    "print(st.stem(\"fishes\"))\n",
    "print(st.stem(\"fishes\"))\n",
    "print(st.stem(\"fishing\"))"
   ]
  },
  {
   "cell_type": "code",
   "execution_count": 26,
   "metadata": {},
   "outputs": [
    {
     "name": "stdout",
     "output_type": "stream",
     "text": [
      "i like fish\n"
     ]
    }
   ],
   "source": [
    "print(st.stem(\"I like fishing\"))"
   ]
  },
  {
   "cell_type": "code",
   "execution_count": 27,
   "metadata": {},
   "outputs": [
    {
     "name": "stdout",
     "output_type": "stream",
     "text": [
      "i eat fish\n"
     ]
    }
   ],
   "source": [
    "print(st.stem(\"I eat fish\"))"
   ]
  },
  {
   "cell_type": "code",
   "execution_count": 28,
   "metadata": {},
   "outputs": [
    {
     "name": "stdout",
     "output_type": "stream",
     "text": [
      "there are lots of fishes in the pond\n"
     ]
    }
   ],
   "source": [
    "print(st.stem(\"There are lots of fishes in the pond\"))"
   ]
  },
  {
   "cell_type": "code",
   "execution_count": 29,
   "metadata": {},
   "outputs": [
    {
     "name": "stdout",
     "output_type": "stream",
     "text": [
      "leav\n"
     ]
    }
   ],
   "source": [
    "print(st.stem(\"leaves\"))"
   ]
  },
  {
   "cell_type": "code",
   "execution_count": 30,
   "metadata": {},
   "outputs": [],
   "source": [
    "# Lemmatization: process of extracting a root word by considering the vocabulary"
   ]
  },
  {
   "cell_type": "code",
   "execution_count": 31,
   "metadata": {},
   "outputs": [
    {
     "name": "stdout",
     "output_type": "stream",
     "text": [
      "leaf\n"
     ]
    }
   ],
   "source": [
    "print(st.stem(\"leafs\"))"
   ]
  },
  {
   "cell_type": "code",
   "execution_count": 32,
   "metadata": {},
   "outputs": [
    {
     "name": "stderr",
     "output_type": "stream",
     "text": [
      "[nltk_data] Downloading package wordnet to\n",
      "[nltk_data]     C:\\Users\\ingle\\AppData\\Roaming\\nltk_data...\n",
      "[nltk_data]   Package wordnet is already up-to-date!\n"
     ]
    },
    {
     "data": {
      "text/plain": [
       "True"
      ]
     },
     "execution_count": 32,
     "metadata": {},
     "output_type": "execute_result"
    }
   ],
   "source": [
    "nltk.download('wordnet')"
   ]
  },
  {
   "cell_type": "code",
   "execution_count": 33,
   "metadata": {},
   "outputs": [
    {
     "data": {
      "text/plain": [
       "'running'"
      ]
     },
     "execution_count": 33,
     "metadata": {},
     "output_type": "execute_result"
    }
   ],
   "source": [
    "from textblob import Word\n",
    "w = Word(\"running\")\n",
    "w.lemmatize()"
   ]
  },
  {
   "cell_type": "code",
   "execution_count": 34,
   "metadata": {},
   "outputs": [
    {
     "data": {
      "text/plain": [
       "'leaf'"
      ]
     },
     "execution_count": 34,
     "metadata": {},
     "output_type": "execute_result"
    }
   ],
   "source": [
    "w = Word(\"leafs\")\n",
    "w.lemmatize()"
   ]
  },
  {
   "cell_type": "code",
   "execution_count": 35,
   "metadata": {},
   "outputs": [
    {
     "data": {
      "text/plain": [
       "'leaf'"
      ]
     },
     "execution_count": 35,
     "metadata": {},
     "output_type": "execute_result"
    }
   ],
   "source": [
    "w = Word(\"leaves\")\n",
    "w.lemmatize()"
   ]
  },
  {
   "cell_type": "code",
   "execution_count": 36,
   "metadata": {},
   "outputs": [
    {
     "data": {
      "text/plain": [
       "'went'"
      ]
     },
     "execution_count": 36,
     "metadata": {},
     "output_type": "execute_result"
    }
   ],
   "source": [
    "w = Word(\"went\")\n",
    "w.lemmatize()"
   ]
  },
  {
   "cell_type": "code",
   "execution_count": 37,
   "metadata": {},
   "outputs": [
    {
     "data": {
      "text/plain": [
       "'go'"
      ]
     },
     "execution_count": 37,
     "metadata": {},
     "output_type": "execute_result"
    }
   ],
   "source": [
    "w = Word(\"went\")\n",
    "w.lemmatize('v') # Pass in WordNet part of speecg as 'verb'"
   ]
  },
  {
   "cell_type": "markdown",
   "metadata": {},
   "source": [
    "# WordLists"
   ]
  },
  {
   "cell_type": "code",
   "execution_count": 38,
   "metadata": {},
   "outputs": [
    {
     "data": {
      "text/plain": [
       "TextBlob(\"tiger elephant shark\")"
      ]
     },
     "execution_count": 38,
     "metadata": {},
     "output_type": "execute_result"
    }
   ],
   "source": [
    "animals = TextBlob(\"tiger elephant shark\")\n",
    "animals"
   ]
  },
  {
   "cell_type": "code",
   "execution_count": 39,
   "metadata": {},
   "outputs": [
    {
     "data": {
      "text/plain": [
       "WordList(['tiger', 'elephant', 'shark'])"
      ]
     },
     "execution_count": 39,
     "metadata": {},
     "output_type": "execute_result"
    }
   ],
   "source": [
    "animals.words"
   ]
  },
  {
   "cell_type": "code",
   "execution_count": 40,
   "metadata": {},
   "outputs": [
    {
     "data": {
      "text/plain": [
       "WordList(['tigers', 'elephants', 'sharks'])"
      ]
     },
     "execution_count": 40,
     "metadata": {},
     "output_type": "execute_result"
    }
   ],
   "source": [
    "animals.words.pluralize()"
   ]
  },
  {
   "cell_type": "markdown",
   "metadata": {},
   "source": [
    "# Spelling Correction:\n",
    "\n",
    "correct()"
   ]
  },
  {
   "cell_type": "code",
   "execution_count": 41,
   "metadata": {},
   "outputs": [
    {
     "name": "stdout",
     "output_type": "stream",
     "text": [
      "I have a good knowledge of spelling\n"
     ]
    }
   ],
   "source": [
    "b = TextBlob(\"I havv a goood knwladge of speling\")\n",
    "print(b.correct())"
   ]
  },
  {
   "cell_type": "code",
   "execution_count": 42,
   "metadata": {},
   "outputs": [
    {
     "data": {
      "text/plain": [
       "[('fallibility', 1.0)]"
      ]
     },
     "execution_count": 42,
     "metadata": {},
     "output_type": "execute_result"
    }
   ],
   "source": [
    "from textblob import Word\n",
    "w = Word('falibility')\n",
    "w.spellcheck()"
   ]
  },
  {
   "cell_type": "code",
   "execution_count": 43,
   "metadata": {},
   "outputs": [
    {
     "name": "stdout",
     "output_type": "stream",
     "text": [
      "[('love', 1.0)]\n",
      "[('mistake', 1.0)]\n",
      "[('knowledge', 1.0)]\n",
      "[('professional', 1.0)]\n",
      "[('sealing', 0.8), ('sparing', 0.2)]\n",
      "[('septa', 0.6363636363636364), ('leap', 0.36363636363636365)]\n",
      "[('computer', 0.75), ('composer', 0.1875), ('capotes', 0.0625)]\n"
     ]
    }
   ],
   "source": [
    "l = ['love', 'mistak', 'knwladge', 'professional', 'spaling', 'leptap', 'campoter']\n",
    "for i in l:\n",
    "    w = Word(i)\n",
    "    print(w.spellcheck())"
   ]
  },
  {
   "cell_type": "markdown",
   "metadata": {},
   "source": [
    "# Get Word and Noun Phrase Frequencies"
   ]
  },
  {
   "cell_type": "code",
   "execution_count": 44,
   "metadata": {},
   "outputs": [
    {
     "data": {
      "text/plain": [
       "TextBlob(\"TextBlob is Cool This cool thing is rising my interest in cool things of NLP.\")"
      ]
     },
     "execution_count": 44,
     "metadata": {},
     "output_type": "execute_result"
    }
   ],
   "source": [
    "ss = TextBlob(\"TextBlob is Cool \"\n",
    "             \"This cool thing is rising my interest in cool things of NLP.\")\n",
    "ss"
   ]
  },
  {
   "cell_type": "code",
   "execution_count": 45,
   "metadata": {},
   "outputs": [
    {
     "data": {
      "text/plain": [
       "3"
      ]
     },
     "execution_count": 45,
     "metadata": {},
     "output_type": "execute_result"
    }
   ],
   "source": [
    "ss.word_counts['cool'] # this is not case sensitive"
   ]
  },
  {
   "cell_type": "code",
   "execution_count": 46,
   "metadata": {},
   "outputs": [
    {
     "data": {
      "text/plain": [
       "3"
      ]
     },
     "execution_count": 46,
     "metadata": {},
     "output_type": "execute_result"
    }
   ],
   "source": [
    "# Case sensitive\n",
    "\n",
    "ss.words.count('cool')"
   ]
  },
  {
   "cell_type": "code",
   "execution_count": 47,
   "metadata": {},
   "outputs": [
    {
     "data": {
      "text/plain": [
       "2"
      ]
     },
     "execution_count": 47,
     "metadata": {},
     "output_type": "execute_result"
    }
   ],
   "source": [
    "# Case sensitive\n",
    "\n",
    "ss.words.count('cool', case_sensitive=True)"
   ]
  },
  {
   "cell_type": "code",
   "execution_count": 48,
   "metadata": {},
   "outputs": [
    {
     "data": {
      "text/plain": [
       "TextBlob(\"Dr. Darshan Ingle isthe the one of the faculties associated with Birla College\")"
      ]
     },
     "execution_count": 48,
     "metadata": {},
     "output_type": "execute_result"
    }
   ],
   "source": [
    "tb"
   ]
  },
  {
   "cell_type": "code",
   "execution_count": 49,
   "metadata": {},
   "outputs": [
    {
     "data": {
      "text/plain": [
       "WordList(['darshan ingle', 'birla'])"
      ]
     },
     "execution_count": 49,
     "metadata": {},
     "output_type": "execute_result"
    }
   ],
   "source": [
    "tb.noun_phrases"
   ]
  },
  {
   "cell_type": "markdown",
   "metadata": {},
   "source": [
    "# n-grams"
   ]
  },
  {
   "cell_type": "code",
   "execution_count": 50,
   "metadata": {},
   "outputs": [
    {
     "data": {
      "text/plain": [
       "TextBlob(\"Good morning dear. i love you. Thank you for being my life partner\")"
      ]
     },
     "execution_count": 50,
     "metadata": {},
     "output_type": "execute_result"
    }
   ],
   "source": [
    "blob = TextBlob(\"Good morning dear. i love you. Thank you for being my life partner\")\n",
    "blob"
   ]
  },
  {
   "cell_type": "code",
   "execution_count": 51,
   "metadata": {},
   "outputs": [
    {
     "data": {
      "text/plain": [
       "[WordList(['Good', 'morning']),\n",
       " WordList(['morning', 'dear']),\n",
       " WordList(['dear', 'i']),\n",
       " WordList(['i', 'love']),\n",
       " WordList(['love', 'you']),\n",
       " WordList(['you', 'Thank']),\n",
       " WordList(['Thank', 'you']),\n",
       " WordList(['you', 'for']),\n",
       " WordList(['for', 'being']),\n",
       " WordList(['being', 'my']),\n",
       " WordList(['my', 'life']),\n",
       " WordList(['life', 'partner'])]"
      ]
     },
     "execution_count": 51,
     "metadata": {},
     "output_type": "execute_result"
    }
   ],
   "source": [
    "blob.ngrams(n=2)"
   ]
  },
  {
   "cell_type": "code",
   "execution_count": 52,
   "metadata": {},
   "outputs": [
    {
     "data": {
      "text/plain": [
       "[WordList(['Good', 'morning', 'dear']),\n",
       " WordList(['morning', 'dear', 'i']),\n",
       " WordList(['dear', 'i', 'love']),\n",
       " WordList(['i', 'love', 'you']),\n",
       " WordList(['love', 'you', 'Thank']),\n",
       " WordList(['you', 'Thank', 'you']),\n",
       " WordList(['Thank', 'you', 'for']),\n",
       " WordList(['you', 'for', 'being']),\n",
       " WordList(['for', 'being', 'my']),\n",
       " WordList(['being', 'my', 'life']),\n",
       " WordList(['my', 'life', 'partner'])]"
      ]
     },
     "execution_count": 52,
     "metadata": {},
     "output_type": "execute_result"
    }
   ],
   "source": [
    "blob.ngrams(n=3)"
   ]
  },
  {
   "cell_type": "markdown",
   "metadata": {},
   "source": [
    "# Text Classification"
   ]
  },
  {
   "cell_type": "code",
   "execution_count": 53,
   "metadata": {},
   "outputs": [],
   "source": [
    "train_data = [\n",
    "    ('This is an excellent movie','pos'),\n",
    "    ('The move was fantastic I like it','pos'),\n",
    "    ('You should watch it, it is brilliant','pos'),\n",
    "    ('Exceptionally good','pos'),\n",
    "    ('Wonderfully directed and executed. I like it','pos'),\n",
    "    ('I was very boring','neg'),\n",
    "    ('I did not like the movie','neg'),\n",
    "    ('The movie was horrible','neg'),\n",
    "    ('I will not recommend','neg'),\n",
    "    ('The acting is pathetic','neg')\n",
    "]"
   ]
  },
  {
   "cell_type": "code",
   "execution_count": 54,
   "metadata": {},
   "outputs": [],
   "source": [
    "test_data = [\n",
    "    ('Its a fantastic series','pos'),\n",
    "    ('Never watched such a brilliant movie','pos'),\n",
    "    ('horrible acting','neg'),\n",
    "    ('It was a wonderful movie','pos'),\n",
    "    ('waste of money','neg'),\n",
    "    ('pathetic picture','neg')\n",
    "]"
   ]
  },
  {
   "cell_type": "code",
   "execution_count": 55,
   "metadata": {},
   "outputs": [],
   "source": [
    "from textblob.classifiers import NaiveBayesClassifier"
   ]
  },
  {
   "cell_type": "code",
   "execution_count": 56,
   "metadata": {},
   "outputs": [],
   "source": [
    "classifier = NaiveBayesClassifier(train_data)"
   ]
  },
  {
   "cell_type": "code",
   "execution_count": 57,
   "metadata": {},
   "outputs": [
    {
     "name": "stdout",
     "output_type": "stream",
     "text": [
      "neg\n"
     ]
    }
   ],
   "source": [
    "print(classifier.classify(\"It is very boring\"))"
   ]
  },
  {
   "cell_type": "code",
   "execution_count": 58,
   "metadata": {},
   "outputs": [
    {
     "name": "stdout",
     "output_type": "stream",
     "text": [
      "pos\n"
     ]
    }
   ],
   "source": [
    "print(classifier.classify(\"It is an excellent series.\"))"
   ]
  },
  {
   "cell_type": "code",
   "execution_count": 59,
   "metadata": {},
   "outputs": [
    {
     "data": {
      "text/plain": [
       "'pos'"
      ]
     },
     "execution_count": 59,
     "metadata": {},
     "output_type": "execute_result"
    }
   ],
   "source": [
    "sentence = TextBlob(\"It's a fantastic series.\", classifier=classifier)\n",
    "sentence.classify()"
   ]
  },
  {
   "cell_type": "code",
   "execution_count": 60,
   "metadata": {},
   "outputs": [
    {
     "data": {
      "text/plain": [
       "0.6666666666666666"
      ]
     },
     "execution_count": 60,
     "metadata": {},
     "output_type": "execute_result"
    }
   ],
   "source": [
    "classifier.accuracy(test_data)"
   ]
  },
  {
   "cell_type": "code",
   "execution_count": 61,
   "metadata": {},
   "outputs": [
    {
     "name": "stdout",
     "output_type": "stream",
     "text": [
      "Most Informative Features\n",
      "            contains(it) = False             neg : pos    =      2.2 : 1.0\n",
      "           contains(The) = True              neg : pos    =      1.7 : 1.0\n",
      "            contains(is) = True              pos : neg    =      1.7 : 1.0\n"
     ]
    }
   ],
   "source": [
    "# To find out the most important features for classification\n",
    "# method is show_informative_features()\n",
    "\n",
    "classifier.show_informative_features(3)"
   ]
  },
  {
   "cell_type": "markdown",
   "metadata": {},
   "source": [
    "# Sentiment Analysis"
   ]
  },
  {
   "cell_type": "code",
   "execution_count": 62,
   "metadata": {},
   "outputs": [],
   "source": [
    "import numpy as np\n",
    "import pandas as pd\n",
    "reviews_datasets = pd.read_csv(\"Reviews.csv\")\n",
    "reviews_datasets = reviews_datasets.sample(5000)"
   ]
  },
  {
   "cell_type": "code",
   "execution_count": 91,
   "metadata": {},
   "outputs": [],
   "source": [
    "reviews_datasets.to_csv(\"Reviews_sample.csv\")"
   ]
  },
  {
   "cell_type": "code",
   "execution_count": 63,
   "metadata": {},
   "outputs": [
    {
     "data": {
      "text/html": [
       "<div>\n",
       "<style scoped>\n",
       "    .dataframe tbody tr th:only-of-type {\n",
       "        vertical-align: middle;\n",
       "    }\n",
       "\n",
       "    .dataframe tbody tr th {\n",
       "        vertical-align: top;\n",
       "    }\n",
       "\n",
       "    .dataframe thead th {\n",
       "        text-align: right;\n",
       "    }\n",
       "</style>\n",
       "<table border=\"1\" class=\"dataframe\">\n",
       "  <thead>\n",
       "    <tr style=\"text-align: right;\">\n",
       "      <th></th>\n",
       "      <th>Id</th>\n",
       "      <th>ProductId</th>\n",
       "      <th>UserId</th>\n",
       "      <th>ProfileName</th>\n",
       "      <th>HelpfulnessNumerator</th>\n",
       "      <th>HelpfulnessDenominator</th>\n",
       "      <th>Score</th>\n",
       "      <th>Time</th>\n",
       "      <th>Summary</th>\n",
       "      <th>Text</th>\n",
       "    </tr>\n",
       "  </thead>\n",
       "  <tbody>\n",
       "    <tr>\n",
       "      <th>236507</th>\n",
       "      <td>236508</td>\n",
       "      <td>B000MBN5TK</td>\n",
       "      <td>A9JT9EVPK98XB</td>\n",
       "      <td>lambo2000</td>\n",
       "      <td>1</td>\n",
       "      <td>5</td>\n",
       "      <td>1</td>\n",
       "      <td>1303516800</td>\n",
       "      <td>i have to disagree...</td>\n",
       "      <td>unlike the previous reviews, i found it to be ...</td>\n",
       "    </tr>\n",
       "    <tr>\n",
       "      <th>140770</th>\n",
       "      <td>140771</td>\n",
       "      <td>B00122AMS0</td>\n",
       "      <td>AW6YD6SG7MWQX</td>\n",
       "      <td>june</td>\n",
       "      <td>0</td>\n",
       "      <td>0</td>\n",
       "      <td>5</td>\n",
       "      <td>1346544000</td>\n",
       "      <td>hickory salt</td>\n",
       "      <td>I have always love  hickory since I'm a Nebras...</td>\n",
       "    </tr>\n",
       "    <tr>\n",
       "      <th>95844</th>\n",
       "      <td>95845</td>\n",
       "      <td>B003VIN0QE</td>\n",
       "      <td>A4Q7G3HBWI4CC</td>\n",
       "      <td>Erin Day \"erin daisy\"</td>\n",
       "      <td>1</td>\n",
       "      <td>3</td>\n",
       "      <td>3</td>\n",
       "      <td>1300492800</td>\n",
       "      <td>Kind of a bummer</td>\n",
       "      <td>Makes me feel gross after I eat it. Potatoes d...</td>\n",
       "    </tr>\n",
       "    <tr>\n",
       "      <th>421513</th>\n",
       "      <td>421514</td>\n",
       "      <td>B000EVG8FQ</td>\n",
       "      <td>A1OEK70H043154</td>\n",
       "      <td>Annette J. Piltz \"AJPiltz\"</td>\n",
       "      <td>0</td>\n",
       "      <td>0</td>\n",
       "      <td>5</td>\n",
       "      <td>1168473600</td>\n",
       "      <td>Best Gluten Free Pretzels</td>\n",
       "      <td>These pretzels are the best I have tried since...</td>\n",
       "    </tr>\n",
       "    <tr>\n",
       "      <th>209570</th>\n",
       "      <td>209571</td>\n",
       "      <td>B000Q75354</td>\n",
       "      <td>A1XKRS3MAN3AUN</td>\n",
       "      <td>Megan</td>\n",
       "      <td>0</td>\n",
       "      <td>1</td>\n",
       "      <td>3</td>\n",
       "      <td>1336089600</td>\n",
       "      <td>Flavor Not What I Was Expecting</td>\n",
       "      <td>I purchased these based on a recommendation fr...</td>\n",
       "    </tr>\n",
       "  </tbody>\n",
       "</table>\n",
       "</div>"
      ],
      "text/plain": [
       "            Id   ProductId          UserId                 ProfileName  \\\n",
       "236507  236508  B000MBN5TK   A9JT9EVPK98XB                   lambo2000   \n",
       "140770  140771  B00122AMS0   AW6YD6SG7MWQX                        june   \n",
       "95844    95845  B003VIN0QE   A4Q7G3HBWI4CC       Erin Day \"erin daisy\"   \n",
       "421513  421514  B000EVG8FQ  A1OEK70H043154  Annette J. Piltz \"AJPiltz\"   \n",
       "209570  209571  B000Q75354  A1XKRS3MAN3AUN                       Megan   \n",
       "\n",
       "        HelpfulnessNumerator  HelpfulnessDenominator  Score        Time  \\\n",
       "236507                     1                       5      1  1303516800   \n",
       "140770                     0                       0      5  1346544000   \n",
       "95844                      1                       3      3  1300492800   \n",
       "421513                     0                       0      5  1168473600   \n",
       "209570                     0                       1      3  1336089600   \n",
       "\n",
       "                                Summary  \\\n",
       "236507            i have to disagree...   \n",
       "140770                     hickory salt   \n",
       "95844                  Kind of a bummer   \n",
       "421513        Best Gluten Free Pretzels   \n",
       "209570  Flavor Not What I Was Expecting   \n",
       "\n",
       "                                                     Text  \n",
       "236507  unlike the previous reviews, i found it to be ...  \n",
       "140770  I have always love  hickory since I'm a Nebras...  \n",
       "95844   Makes me feel gross after I eat it. Potatoes d...  \n",
       "421513  These pretzels are the best I have tried since...  \n",
       "209570  I purchased these based on a recommendation fr...  "
      ]
     },
     "execution_count": 63,
     "metadata": {},
     "output_type": "execute_result"
    }
   ],
   "source": [
    "reviews_datasets.head()"
   ]
  },
  {
   "cell_type": "code",
   "execution_count": 64,
   "metadata": {},
   "outputs": [
    {
     "data": {
      "text/plain": [
       "Id                        0\n",
       "ProductId                 0\n",
       "UserId                    0\n",
       "ProfileName               0\n",
       "HelpfulnessNumerator      0\n",
       "HelpfulnessDenominator    0\n",
       "Score                     0\n",
       "Time                      0\n",
       "Summary                   0\n",
       "Text                      0\n",
       "dtype: int64"
      ]
     },
     "execution_count": 64,
     "metadata": {},
     "output_type": "execute_result"
    }
   ],
   "source": [
    "reviews_datasets.isna().sum()"
   ]
  },
  {
   "cell_type": "code",
   "execution_count": 65,
   "metadata": {},
   "outputs": [],
   "source": [
    "reviews_datasets.dropna(inplace=True)"
   ]
  },
  {
   "cell_type": "code",
   "execution_count": 66,
   "metadata": {},
   "outputs": [
    {
     "data": {
      "text/plain": [
       "Id                        0\n",
       "ProductId                 0\n",
       "UserId                    0\n",
       "ProfileName               0\n",
       "HelpfulnessNumerator      0\n",
       "HelpfulnessDenominator    0\n",
       "Score                     0\n",
       "Time                      0\n",
       "Summary                   0\n",
       "Text                      0\n",
       "dtype: int64"
      ]
     },
     "execution_count": 66,
     "metadata": {},
     "output_type": "execute_result"
    }
   ],
   "source": [
    "reviews_datasets.isna().sum()"
   ]
  },
  {
   "cell_type": "code",
   "execution_count": 67,
   "metadata": {},
   "outputs": [
    {
     "data": {
      "text/html": [
       "<div>\n",
       "<style scoped>\n",
       "    .dataframe tbody tr th:only-of-type {\n",
       "        vertical-align: middle;\n",
       "    }\n",
       "\n",
       "    .dataframe tbody tr th {\n",
       "        vertical-align: top;\n",
       "    }\n",
       "\n",
       "    .dataframe thead th {\n",
       "        text-align: right;\n",
       "    }\n",
       "</style>\n",
       "<table border=\"1\" class=\"dataframe\">\n",
       "  <thead>\n",
       "    <tr style=\"text-align: right;\">\n",
       "      <th></th>\n",
       "      <th>Id</th>\n",
       "      <th>ProductId</th>\n",
       "      <th>UserId</th>\n",
       "      <th>ProfileName</th>\n",
       "      <th>HelpfulnessNumerator</th>\n",
       "      <th>HelpfulnessDenominator</th>\n",
       "      <th>Score</th>\n",
       "      <th>Time</th>\n",
       "      <th>Summary</th>\n",
       "      <th>Text</th>\n",
       "    </tr>\n",
       "  </thead>\n",
       "  <tbody>\n",
       "    <tr>\n",
       "      <th>236507</th>\n",
       "      <td>236508</td>\n",
       "      <td>B000MBN5TK</td>\n",
       "      <td>A9JT9EVPK98XB</td>\n",
       "      <td>lambo2000</td>\n",
       "      <td>1</td>\n",
       "      <td>5</td>\n",
       "      <td>1</td>\n",
       "      <td>1303516800</td>\n",
       "      <td>i have to disagree...</td>\n",
       "      <td>unlike the previous reviews, i found it to be ...</td>\n",
       "    </tr>\n",
       "    <tr>\n",
       "      <th>140770</th>\n",
       "      <td>140771</td>\n",
       "      <td>B00122AMS0</td>\n",
       "      <td>AW6YD6SG7MWQX</td>\n",
       "      <td>june</td>\n",
       "      <td>0</td>\n",
       "      <td>0</td>\n",
       "      <td>5</td>\n",
       "      <td>1346544000</td>\n",
       "      <td>hickory salt</td>\n",
       "      <td>I have always love  hickory since I'm a Nebras...</td>\n",
       "    </tr>\n",
       "    <tr>\n",
       "      <th>95844</th>\n",
       "      <td>95845</td>\n",
       "      <td>B003VIN0QE</td>\n",
       "      <td>A4Q7G3HBWI4CC</td>\n",
       "      <td>Erin Day \"erin daisy\"</td>\n",
       "      <td>1</td>\n",
       "      <td>3</td>\n",
       "      <td>3</td>\n",
       "      <td>1300492800</td>\n",
       "      <td>Kind of a bummer</td>\n",
       "      <td>Makes me feel gross after I eat it. Potatoes d...</td>\n",
       "    </tr>\n",
       "    <tr>\n",
       "      <th>421513</th>\n",
       "      <td>421514</td>\n",
       "      <td>B000EVG8FQ</td>\n",
       "      <td>A1OEK70H043154</td>\n",
       "      <td>Annette J. Piltz \"AJPiltz\"</td>\n",
       "      <td>0</td>\n",
       "      <td>0</td>\n",
       "      <td>5</td>\n",
       "      <td>1168473600</td>\n",
       "      <td>Best Gluten Free Pretzels</td>\n",
       "      <td>These pretzels are the best I have tried since...</td>\n",
       "    </tr>\n",
       "    <tr>\n",
       "      <th>209570</th>\n",
       "      <td>209571</td>\n",
       "      <td>B000Q75354</td>\n",
       "      <td>A1XKRS3MAN3AUN</td>\n",
       "      <td>Megan</td>\n",
       "      <td>0</td>\n",
       "      <td>1</td>\n",
       "      <td>3</td>\n",
       "      <td>1336089600</td>\n",
       "      <td>Flavor Not What I Was Expecting</td>\n",
       "      <td>I purchased these based on a recommendation fr...</td>\n",
       "    </tr>\n",
       "  </tbody>\n",
       "</table>\n",
       "</div>"
      ],
      "text/plain": [
       "            Id   ProductId          UserId                 ProfileName  \\\n",
       "236507  236508  B000MBN5TK   A9JT9EVPK98XB                   lambo2000   \n",
       "140770  140771  B00122AMS0   AW6YD6SG7MWQX                        june   \n",
       "95844    95845  B003VIN0QE   A4Q7G3HBWI4CC       Erin Day \"erin daisy\"   \n",
       "421513  421514  B000EVG8FQ  A1OEK70H043154  Annette J. Piltz \"AJPiltz\"   \n",
       "209570  209571  B000Q75354  A1XKRS3MAN3AUN                       Megan   \n",
       "\n",
       "        HelpfulnessNumerator  HelpfulnessDenominator  Score        Time  \\\n",
       "236507                     1                       5      1  1303516800   \n",
       "140770                     0                       0      5  1346544000   \n",
       "95844                      1                       3      3  1300492800   \n",
       "421513                     0                       0      5  1168473600   \n",
       "209570                     0                       1      3  1336089600   \n",
       "\n",
       "                                Summary  \\\n",
       "236507            i have to disagree...   \n",
       "140770                     hickory salt   \n",
       "95844                  Kind of a bummer   \n",
       "421513        Best Gluten Free Pretzels   \n",
       "209570  Flavor Not What I Was Expecting   \n",
       "\n",
       "                                                     Text  \n",
       "236507  unlike the previous reviews, i found it to be ...  \n",
       "140770  I have always love  hickory since I'm a Nebras...  \n",
       "95844   Makes me feel gross after I eat it. Potatoes d...  \n",
       "421513  These pretzels are the best I have tried since...  \n",
       "209570  I purchased these based on a recommendation fr...  "
      ]
     },
     "execution_count": 67,
     "metadata": {},
     "output_type": "execute_result"
    }
   ],
   "source": [
    "reviews_datasets.head()"
   ]
  },
  {
   "cell_type": "code",
   "execution_count": 68,
   "metadata": {},
   "outputs": [
    {
     "data": {
      "text/plain": [
       "(5000, 10)"
      ]
     },
     "execution_count": 68,
     "metadata": {},
     "output_type": "execute_result"
    }
   ],
   "source": [
    "reviews_datasets.shape"
   ]
  },
  {
   "cell_type": "code",
   "execution_count": 69,
   "metadata": {},
   "outputs": [
    {
     "data": {
      "text/plain": [
       "5    3146\n",
       "4     705\n",
       "1     496\n",
       "3     383\n",
       "2     270\n",
       "Name: Score, dtype: int64"
      ]
     },
     "execution_count": 69,
     "metadata": {},
     "output_type": "execute_result"
    }
   ],
   "source": [
    "reviews_datasets['Score'].value_counts()"
   ]
  },
  {
   "cell_type": "code",
   "execution_count": 70,
   "metadata": {},
   "outputs": [],
   "source": [
    "import warnings\n",
    "warnings.simplefilter('ignore')"
   ]
  },
  {
   "cell_type": "code",
   "execution_count": 71,
   "metadata": {},
   "outputs": [
    {
     "data": {
      "image/png": "[encoded data removed]",
      "text/plain": [
       "<Figure size 432x288 with 1 Axes>"
      ]
     },
     "metadata": {
      "needs_background": "light"
     },
     "output_type": "display_data"
    }
   ],
   "source": [
    "import seaborn as sns\n",
    "import matplotlib.pyplot as plt\n",
    "\n",
    "sns.distplot(reviews_datasets['Score']);"
   ]
  },
  {
   "cell_type": "code",
   "execution_count": 72,
   "metadata": {},
   "outputs": [
    {
     "data": {
      "image/png": "[encoded data removed]",
      "text/plain": [
       "<Figure size 432x288 with 1 Axes>"
      ]
     },
     "metadata": {
      "needs_background": "light"
     },
     "output_type": "display_data"
    }
   ],
   "source": [
    "sns.countplot(x='Score', data=reviews_datasets);"
   ]
  },
  {
   "cell_type": "code",
   "execution_count": 73,
   "metadata": {
    "scrolled": true
   },
   "outputs": [
    {
     "data": {
      "text/html": [
       "<div>\n",
       "<style scoped>\n",
       "    .dataframe tbody tr th:only-of-type {\n",
       "        vertical-align: middle;\n",
       "    }\n",
       "\n",
       "    .dataframe tbody tr th {\n",
       "        vertical-align: top;\n",
       "    }\n",
       "\n",
       "    .dataframe thead th {\n",
       "        text-align: right;\n",
       "    }\n",
       "</style>\n",
       "<table border=\"1\" class=\"dataframe\">\n",
       "  <thead>\n",
       "    <tr style=\"text-align: right;\">\n",
       "      <th></th>\n",
       "      <th>Id</th>\n",
       "      <th>ProductId</th>\n",
       "      <th>UserId</th>\n",
       "      <th>ProfileName</th>\n",
       "      <th>HelpfulnessNumerator</th>\n",
       "      <th>HelpfulnessDenominator</th>\n",
       "      <th>Score</th>\n",
       "      <th>Time</th>\n",
       "      <th>Summary</th>\n",
       "      <th>Text</th>\n",
       "    </tr>\n",
       "  </thead>\n",
       "  <tbody>\n",
       "    <tr>\n",
       "      <th>236507</th>\n",
       "      <td>236508</td>\n",
       "      <td>B000MBN5TK</td>\n",
       "      <td>A9JT9EVPK98XB</td>\n",
       "      <td>lambo2000</td>\n",
       "      <td>1</td>\n",
       "      <td>5</td>\n",
       "      <td>1</td>\n",
       "      <td>1303516800</td>\n",
       "      <td>i have to disagree...</td>\n",
       "      <td>unlike the previous reviews, i found it to be ...</td>\n",
       "    </tr>\n",
       "    <tr>\n",
       "      <th>140770</th>\n",
       "      <td>140771</td>\n",
       "      <td>B00122AMS0</td>\n",
       "      <td>AW6YD6SG7MWQX</td>\n",
       "      <td>june</td>\n",
       "      <td>0</td>\n",
       "      <td>0</td>\n",
       "      <td>5</td>\n",
       "      <td>1346544000</td>\n",
       "      <td>hickory salt</td>\n",
       "      <td>I have always love  hickory since I'm a Nebras...</td>\n",
       "    </tr>\n",
       "  </tbody>\n",
       "</table>\n",
       "</div>"
      ],
      "text/plain": [
       "            Id   ProductId         UserId ProfileName  HelpfulnessNumerator  \\\n",
       "236507  236508  B000MBN5TK  A9JT9EVPK98XB   lambo2000                     1   \n",
       "140770  140771  B00122AMS0  AW6YD6SG7MWQX        june                     0   \n",
       "\n",
       "        HelpfulnessDenominator  Score        Time                Summary  \\\n",
       "236507                       5      1  1303516800  i have to disagree...   \n",
       "140770                       0      5  1346544000           hickory salt   \n",
       "\n",
       "                                                     Text  \n",
       "236507  unlike the previous reviews, i found it to be ...  \n",
       "140770  I have always love  hickory since I'm a Nebras...  "
      ]
     },
     "execution_count": 73,
     "metadata": {},
     "output_type": "execute_result"
    }
   ],
   "source": [
    "reviews_datasets.head(2)"
   ]
  },
  {
   "cell_type": "code",
   "execution_count": 74,
   "metadata": {},
   "outputs": [
    {
     "data": {
      "text/plain": [
       "236507    unlike the previous reviews, i found it to be ...\n",
       "140770    I have always love  hickory since I'm a Nebras...\n",
       "95844     Makes me feel gross after I eat it. Potatoes d...\n",
       "421513    These pretzels are the best I have tried since...\n",
       "209570    I purchased these based on a recommendation fr...\n",
       "Name: Text, dtype: object"
      ]
     },
     "execution_count": 74,
     "metadata": {},
     "output_type": "execute_result"
    }
   ],
   "source": [
    "reviews_datasets['Text'].head()"
   ]
  },
  {
   "cell_type": "code",
   "execution_count": 76,
   "metadata": {},
   "outputs": [
    {
     "data": {
      "text/plain": [
       "\"I have always love  hickory since I'm a Nebraska, but living in the sandhills  you have to search for thing I used  to be able to get here  so you are a blessing  now I know where to find it  I hope you have a lot it in stock\""
      ]
     },
     "execution_count": 76,
     "metadata": {},
     "output_type": "execute_result"
    }
   ],
   "source": [
    "reviews_datasets['Text'][140770] # Pos"
   ]
  },
  {
   "cell_type": "code",
   "execution_count": 77,
   "metadata": {},
   "outputs": [
    {
     "data": {
      "text/plain": [
       "'These pretzels are the best I have tried since switching to a gluten free diet approximately 2 years ago.<br /><br />I would definitely buy them again.'"
      ]
     },
     "execution_count": 77,
     "metadata": {},
     "output_type": "execute_result"
    }
   ],
   "source": [
    "reviews_datasets['Text'][421513]"
   ]
  },
  {
   "cell_type": "code",
   "execution_count": 78,
   "metadata": {},
   "outputs": [
    {
     "data": {
      "text/plain": [
       "Sentiment(polarity=0.24999999999999997, subjectivity=0.55)"
      ]
     },
     "execution_count": 78,
     "metadata": {},
     "output_type": "execute_result"
    }
   ],
   "source": [
    "text_blob_object = TextBlob(reviews_datasets['Text'][421513])\n",
    "text_blob_object.sentiment"
   ]
  },
  {
   "cell_type": "code",
   "execution_count": 80,
   "metadata": {},
   "outputs": [
    {
     "data": {
      "text/plain": [
       "Sentiment(polarity=0.5, subjectivity=0.6125)"
      ]
     },
     "execution_count": 80,
     "metadata": {},
     "output_type": "execute_result"
    }
   ],
   "source": [
    "text_blob_object = TextBlob(reviews_datasets['Text'][140770])\n",
    "text_blob_object.sentiment"
   ]
  },
  {
   "cell_type": "code",
   "execution_count": 81,
   "metadata": {},
   "outputs": [
    {
     "data": {
      "text/html": [
       "<div>\n",
       "<style scoped>\n",
       "    .dataframe tbody tr th:only-of-type {\n",
       "        vertical-align: middle;\n",
       "    }\n",
       "\n",
       "    .dataframe tbody tr th {\n",
       "        vertical-align: top;\n",
       "    }\n",
       "\n",
       "    .dataframe thead th {\n",
       "        text-align: right;\n",
       "    }\n",
       "</style>\n",
       "<table border=\"1\" class=\"dataframe\">\n",
       "  <thead>\n",
       "    <tr style=\"text-align: right;\">\n",
       "      <th></th>\n",
       "      <th>Id</th>\n",
       "      <th>ProductId</th>\n",
       "      <th>UserId</th>\n",
       "      <th>ProfileName</th>\n",
       "      <th>HelpfulnessNumerator</th>\n",
       "      <th>HelpfulnessDenominator</th>\n",
       "      <th>Score</th>\n",
       "      <th>Time</th>\n",
       "      <th>Summary</th>\n",
       "      <th>Text</th>\n",
       "      <th>Sentiment_Polarity</th>\n",
       "    </tr>\n",
       "  </thead>\n",
       "  <tbody>\n",
       "    <tr>\n",
       "      <th>236507</th>\n",
       "      <td>236508</td>\n",
       "      <td>B000MBN5TK</td>\n",
       "      <td>A9JT9EVPK98XB</td>\n",
       "      <td>lambo2000</td>\n",
       "      <td>1</td>\n",
       "      <td>5</td>\n",
       "      <td>1</td>\n",
       "      <td>1303516800</td>\n",
       "      <td>i have to disagree...</td>\n",
       "      <td>unlike the previous reviews, i found it to be ...</td>\n",
       "      <td>0.099038</td>\n",
       "    </tr>\n",
       "    <tr>\n",
       "      <th>140770</th>\n",
       "      <td>140771</td>\n",
       "      <td>B00122AMS0</td>\n",
       "      <td>AW6YD6SG7MWQX</td>\n",
       "      <td>june</td>\n",
       "      <td>0</td>\n",
       "      <td>0</td>\n",
       "      <td>5</td>\n",
       "      <td>1346544000</td>\n",
       "      <td>hickory salt</td>\n",
       "      <td>I have always love  hickory since I'm a Nebras...</td>\n",
       "      <td>0.500000</td>\n",
       "    </tr>\n",
       "    <tr>\n",
       "      <th>95844</th>\n",
       "      <td>95845</td>\n",
       "      <td>B003VIN0QE</td>\n",
       "      <td>A4Q7G3HBWI4CC</td>\n",
       "      <td>Erin Day \"erin daisy\"</td>\n",
       "      <td>1</td>\n",
       "      <td>3</td>\n",
       "      <td>3</td>\n",
       "      <td>1300492800</td>\n",
       "      <td>Kind of a bummer</td>\n",
       "      <td>Makes me feel gross after I eat it. Potatoes d...</td>\n",
       "      <td>0.101667</td>\n",
       "    </tr>\n",
       "    <tr>\n",
       "      <th>421513</th>\n",
       "      <td>421514</td>\n",
       "      <td>B000EVG8FQ</td>\n",
       "      <td>A1OEK70H043154</td>\n",
       "      <td>Annette J. Piltz \"AJPiltz\"</td>\n",
       "      <td>0</td>\n",
       "      <td>0</td>\n",
       "      <td>5</td>\n",
       "      <td>1168473600</td>\n",
       "      <td>Best Gluten Free Pretzels</td>\n",
       "      <td>These pretzels are the best I have tried since...</td>\n",
       "      <td>0.250000</td>\n",
       "    </tr>\n",
       "    <tr>\n",
       "      <th>209570</th>\n",
       "      <td>209571</td>\n",
       "      <td>B000Q75354</td>\n",
       "      <td>A1XKRS3MAN3AUN</td>\n",
       "      <td>Megan</td>\n",
       "      <td>0</td>\n",
       "      <td>1</td>\n",
       "      <td>3</td>\n",
       "      <td>1336089600</td>\n",
       "      <td>Flavor Not What I Was Expecting</td>\n",
       "      <td>I purchased these based on a recommendation fr...</td>\n",
       "      <td>0.215000</td>\n",
       "    </tr>\n",
       "  </tbody>\n",
       "</table>\n",
       "</div>"
      ],
      "text/plain": [
       "            Id   ProductId          UserId                 ProfileName  \\\n",
       "236507  236508  B000MBN5TK   A9JT9EVPK98XB                   lambo2000   \n",
       "140770  140771  B00122AMS0   AW6YD6SG7MWQX                        june   \n",
       "95844    95845  B003VIN0QE   A4Q7G3HBWI4CC       Erin Day \"erin daisy\"   \n",
       "421513  421514  B000EVG8FQ  A1OEK70H043154  Annette J. Piltz \"AJPiltz\"   \n",
       "209570  209571  B000Q75354  A1XKRS3MAN3AUN                       Megan   \n",
       "\n",
       "        HelpfulnessNumerator  HelpfulnessDenominator  Score        Time  \\\n",
       "236507                     1                       5      1  1303516800   \n",
       "140770                     0                       0      5  1346544000   \n",
       "95844                      1                       3      3  1300492800   \n",
       "421513                     0                       0      5  1168473600   \n",
       "209570                     0                       1      3  1336089600   \n",
       "\n",
       "                                Summary  \\\n",
       "236507            i have to disagree...   \n",
       "140770                     hickory salt   \n",
       "95844                  Kind of a bummer   \n",
       "421513        Best Gluten Free Pretzels   \n",
       "209570  Flavor Not What I Was Expecting   \n",
       "\n",
       "                                                     Text  Sentiment_Polarity  \n",
       "236507  unlike the previous reviews, i found it to be ...            0.099038  \n",
       "140770  I have always love  hickory since I'm a Nebras...            0.500000  \n",
       "95844   Makes me feel gross after I eat it. Potatoes d...            0.101667  \n",
       "421513  These pretzels are the best I have tried since...            0.250000  \n",
       "209570  I purchased these based on a recommendation fr...            0.215000  "
      ]
     },
     "execution_count": 81,
     "metadata": {},
     "output_type": "execute_result"
    }
   ],
   "source": [
    "# Lets add a column in the dataframe for sentiment polarity\n",
    "\n",
    "def ass_pol(review):\n",
    "    return TextBlob(review).sentiment.polarity\n",
    "\n",
    "reviews_datasets['Sentiment_Polarity'] = reviews_datasets['Text'].apply(ass_pol)\n",
    "reviews_datasets.head()"
   ]
  },
  {
   "cell_type": "code",
   "execution_count": 82,
   "metadata": {},
   "outputs": [
    {
     "data": {
      "image/png": "[encoded data removed]",
      "text/plain": [
       "<Figure size 432x288 with 1 Axes>"
      ]
     },
     "metadata": {
      "needs_background": "light"
     },
     "output_type": "display_data"
    }
   ],
   "source": [
    "# Distribution of the polarity\n",
    "\n",
    "sns.distplot(reviews_datasets['Sentiment_Polarity']);"
   ]
  },
  {
   "cell_type": "code",
   "execution_count": 83,
   "metadata": {},
   "outputs": [
    {
     "data": {
      "image/png": "[encoded data removed]",
      "text/plain": [
       "<Figure size 432x288 with 1 Axes>"
      ]
     },
     "metadata": {
      "needs_background": "light"
     },
     "output_type": "display_data"
    }
   ],
   "source": [
    "# Most of the reviews are positive and have polarity majorly between 0 to 0.5.\n",
    "\n",
    "# This is but obvious also.\n",
    "\n",
    "# Plot the average polarity for each score rating\n",
    "\n",
    "sns.barplot(x='Score', y='Sentiment_Polarity', data=reviews_datasets);"
   ]
  },
  {
   "cell_type": "code",
   "execution_count": 84,
   "metadata": {},
   "outputs": [
    {
     "data": {
      "text/plain": [
       "359163    I've tried every flavor...all are horrible. I ...\n",
       "368611    This stuff is disgusting! If I could give this...\n",
       "38926     I have a question. Why do all of these pickled...\n",
       "446287    Me and my Co workers had to take 2 oz shots of...\n",
       "Name: Text, dtype: object"
      ]
     },
     "execution_count": 84,
     "metadata": {},
     "output_type": "execute_result"
    }
   ],
   "source": [
    "# Lets introspect some of the negative reviews.\n",
    "#  Reviews that have polarity as '-1'\n",
    "\n",
    "most_neg = reviews_datasets[reviews_datasets.Sentiment_Polarity == -1].Text.head()\n",
    "most_neg"
   ]
  },
  {
   "cell_type": "code",
   "execution_count": 86,
   "metadata": {},
   "outputs": [
    {
     "data": {
      "text/plain": [
       "\"I've tried every flavor...all are horrible. I would not even feed them to a dog. I regret making this purchase!\""
      ]
     },
     "execution_count": 86,
     "metadata": {},
     "output_type": "execute_result"
    }
   ],
   "source": [
    "reviews_datasets['Text'][359163]"
   ]
  },
  {
   "cell_type": "code",
   "execution_count": 87,
   "metadata": {},
   "outputs": [
    {
     "data": {
      "text/plain": [
       "'Me and my Co workers had to take 2 oz shots of this stuff just to get an affect finished the bottle in 1 day its awful'"
      ]
     },
     "execution_count": 87,
     "metadata": {},
     "output_type": "execute_result"
    }
   ],
   "source": [
    "reviews_datasets['Text'][446287]"
   ]
  },
  {
   "cell_type": "code",
   "execution_count": 88,
   "metadata": {},
   "outputs": [
    {
     "data": {
      "text/plain": [
       "543167    Used these to make an incredibly tasty vanilla...\n",
       "464371    This coffee is just delicious.....smooth and y...\n",
       "200187    I have been trying body lotions for years..<br...\n",
       "469774    This product is wonderful if you can't eat glu...\n",
       "495456    This is the very best etouffee mix on the mark...\n",
       "Name: Text, dtype: object"
      ]
     },
     "execution_count": 88,
     "metadata": {},
     "output_type": "execute_result"
    }
   ],
   "source": [
    "# Lets introspect some of the positive reviews.\n",
    "#  Reviews that have polarity as '+1'\n",
    "\n",
    "most_pos = reviews_datasets[reviews_datasets.Sentiment_Polarity == 1].Text.head()\n",
    "most_pos"
   ]
  },
  {
   "cell_type": "code",
   "execution_count": 89,
   "metadata": {},
   "outputs": [
    {
     "data": {
      "text/plain": [
       "'Used these to make an incredibly tasty vanilla bean cheesecake for Christmas which was a hit at the party I brought it to!'"
      ]
     },
     "execution_count": 89,
     "metadata": {},
     "output_type": "execute_result"
    }
   ],
   "source": [
    "reviews_datasets['Text'][543167]"
   ]
  },
  {
   "cell_type": "code",
   "execution_count": 90,
   "metadata": {},
   "outputs": [
    {
     "data": {
      "text/plain": [
       "'This is the very best etouffee mix on the market.  It has wonderful flavor and makes plenty of sauce for two pounds of shrimp.  My family loves it!'"
      ]
     },
     "execution_count": 90,
     "metadata": {},
     "output_type": "execute_result"
    }
   ],
   "source": [
    "reviews_datasets['Text'][495456]"
   ]
  },
  {
   "cell_type": "markdown",
   "metadata": {},
   "source": [
    "# Happy Learning"
   ]
  }
 ],
 "metadata": {
  "kernelspec": {
   "display_name": "Python 3",
   "language": "python",
   "name": "python3"
  },
  "language_info": {
   "codemirror_mode": {
    "name": "ipython",
    "version": 3
   },
   "file_extension": ".py",
   "mimetype": "text/x-python",
   "name": "python",
   "nbconvert_exporter": "python",
   "pygments_lexer": "ipython3",
   "version": "3.8.5"
  }
 },
 "nbformat": 4,
 "nbformat_minor": 4
}
